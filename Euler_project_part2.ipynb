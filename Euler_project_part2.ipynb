{
 "cells": [
  {
   "cell_type": "code",
   "execution_count": 43,
   "id": "a5b04ba1",
   "metadata": {},
   "outputs": [],
   "source": [
    "using Plots"
   ]
  },
  {
   "cell_type": "code",
   "execution_count": 44,
   "id": "aa248f98",
   "metadata": {},
   "outputs": [
    {
     "data": {
      "text/plain": [
       "\"\\\"MARY\\\",\\\"PATRICIA\\\",\\\"LINDA\\\",\\\"BARBARA\\\",\\\"ELIZABETH\\\",\\\"JENNIFER\\\",\\\"MARIA\\\",\\\"SUSAN\\\",\\\"MARGARET\\\",\\\"DOROTHY\\\",\\\"LISA\\\",\\\"NANCY\\\",\\\"KAREN\\\",\\\"BETTY\\\",\\\"HELEN\\\",\\\"SANDRA\\\",\\\"DONNA\\\",\\\"CAROL\\\",\\\"RUTH\\\",\\\"SHARON\\\",\\\"MICHELLE\\\",\\\"LAURA\\\",\\\"SARAH\\\",\\\"KIMBERLY\\\",\\\"DEBORAH\\\",\\\"JESSICA\\\",\\\"SHIRLEY\\\",\\\"CYNTHIA\\\",\\\"ANGELA\\\",\\\"MELISS\"\u001b[93m\u001b[1m ⋯ 45909 bytes ⋯ \u001b[22m\u001b[39m\"DRO\\\",\\\"KRAIG\\\",\\\"JERRELL\\\",\\\"JEROMY\\\",\\\"HOBERT\\\",\\\"CEDRICK\\\",\\\"ARLIE\\\",\\\"WINFORD\\\",\\\"WALLY\\\",\\\"LUIGI\\\",\\\"KENETH\\\",\\\"JACINTO\\\",\\\"GRAIG\\\",\\\"FRANKLYN\\\",\\\"EDMUNDO\\\",\\\"SID\\\",\\\"PORTER\\\",\\\"LEIF\\\",\\\"JERAMY\\\",\\\"BUCK\\\",\\\"WILLIAN\\\",\\\"VINCENZO\\\",\\\"SHON\\\",\\\"LYNWOOD\\\",\\\"JERE\\\",\\\"HAI\\\",\\\"ELDEN\\\",\\\"DORSEY\\\",\\\"DARELL\\\",\\\"BRODERICK\\\",\\\"ALONSO\\\"\\n\""
      ]
     },
     "execution_count": 44,
     "metadata": {},
     "output_type": "execute_result"
    }
   ],
   "source": [
    "content = read(\"names_euler.txt\",String)"
   ]
  },
  {
   "cell_type": "code",
   "execution_count": 45,
   "id": "b912ea15",
   "metadata": {},
   "outputs": [
    {
     "data": {
      "text/plain": [
       "5163-element Vector{Vector{Char}}:\n",
       " ['M', 'A', 'R', 'Y']\n",
       " ['P', 'A', 'T', 'R', 'I', 'C', 'I', 'A']\n",
       " ['L', 'I', 'N', 'D', 'A']\n",
       " ['B', 'A', 'R', 'B', 'A', 'R', 'A']\n",
       " ['E', 'L', 'I', 'Z', 'A', 'B', 'E', 'T', 'H']\n",
       " ['J', 'E', 'N', 'N', 'I', 'F', 'E', 'R']\n",
       " ['M', 'A', 'R', 'I', 'A']\n",
       " ['S', 'U', 'S', 'A', 'N']\n",
       " ['M', 'A', 'R', 'G', 'A', 'R', 'E', 'T']\n",
       " ['D', 'O', 'R', 'O', 'T', 'H', 'Y']\n",
       " ['L', 'I', 'S', 'A']\n",
       " ['N', 'A', 'N', 'C', 'Y']\n",
       " ['K', 'A', 'R', 'E', 'N']\n",
       " ⋮\n",
       " ['B', 'U', 'C', 'K']\n",
       " ['W', 'I', 'L', 'L', 'I', 'A', 'N']\n",
       " ['V', 'I', 'N', 'C', 'E', 'N', 'Z', 'O']\n",
       " ['S', 'H', 'O', 'N']\n",
       " ['L', 'Y', 'N', 'W', 'O', 'O', 'D']\n",
       " ['J', 'E', 'R', 'E']\n",
       " ['H', 'A', 'I']\n",
       " ['E', 'L', 'D', 'E', 'N']\n",
       " ['D', 'O', 'R', 'S', 'E', 'Y']\n",
       " ['D', 'A', 'R', 'E', 'L', 'L']\n",
       " ['B', 'R', 'O', 'D', 'E', 'R', 'I', 'C', 'K']\n",
       " ['A', 'L', 'O', 'N', 'S', 'O', '\"', '\\n']"
      ]
     },
     "execution_count": 45,
     "metadata": {},
     "output_type": "execute_result"
    }
   ],
   "source": [
    "names_as_lists = [collect(strip(name, ['\"'])) for name in split(content, \",\")]\n",
    "names_as_lists"
   ]
  },
  {
   "cell_type": "code",
   "execution_count": 46,
   "id": "33b42d94",
   "metadata": {},
   "outputs": [
    {
     "data": {
      "text/plain": [
       "5163"
      ]
     },
     "execution_count": 46,
     "metadata": {},
     "output_type": "execute_result"
    }
   ],
   "source": [
    "length(names_as_lists)"
   ]
  },
  {
   "cell_type": "code",
   "execution_count": 47,
   "id": "94fda39f",
   "metadata": {},
   "outputs": [
    {
     "data": {
      "text/plain": [
       "Char"
      ]
     },
     "execution_count": 47,
     "metadata": {},
     "output_type": "execute_result"
    }
   ],
   "source": [
    "typeof(names_as_lists[5163][1])"
   ]
  },
  {
   "cell_type": "code",
   "execution_count": 48,
   "id": "fc939287",
   "metadata": {},
   "outputs": [
    {
     "name": "stdout",
     "output_type": "stream",
     "text": [
      "31"
     ]
    }
   ],
   "source": [
    "A1 = [] \n",
    "for i in 1:length(names_as_lists)\n",
    "    if names_as_lists[i][1] == 'Z'\n",
    "        push!(A1,names_as_lists[i])\n",
    "    end\n",
    "end\n",
    "print(length(A1))"
   ]
  },
  {
   "cell_type": "code",
   "execution_count": 49,
   "id": "ddfa36a7",
   "metadata": {},
   "outputs": [
    {
     "data": {
      "text/plain": [
       "5163-element Vector{Vector{Char}}:\n",
       " ['A', 'A', 'R', 'O', 'N']\n",
       " ['A', 'B', 'B', 'E', 'Y']\n",
       " ['A', 'B', 'B', 'I', 'E']\n",
       " ['A', 'B', 'B', 'Y']\n",
       " ['A', 'B', 'D', 'U', 'L']\n",
       " ['A', 'B', 'E']\n",
       " ['A', 'B', 'E', 'L']\n",
       " ['A', 'B', 'I', 'G', 'A', 'I', 'L']\n",
       " ['A', 'B', 'R', 'A', 'H', 'A', 'M']\n",
       " ['A', 'B', 'R', 'A', 'M']\n",
       " ['A', 'D', 'A']\n",
       " ['A', 'D', 'A', 'H']\n",
       " ['A', 'D', 'A', 'L', 'B', 'E', 'R', 'T', 'O']\n",
       " ⋮\n",
       " ['Z', 'I', 'T', 'A']\n",
       " ['Z', 'O', 'E']\n",
       " ['Z', 'O', 'F', 'I', 'A']\n",
       " ['Z', 'O', 'I', 'L', 'A']\n",
       " ['Z', 'O', 'L', 'A']\n",
       " ['Z', 'O', 'N', 'A']\n",
       " ['Z', 'O', 'N', 'I', 'A']\n",
       " ['Z', 'O', 'R', 'A']\n",
       " ['Z', 'O', 'R', 'A', 'I', 'D', 'A']\n",
       " ['Z', 'U', 'L', 'A']\n",
       " ['Z', 'U', 'L', 'E', 'M', 'A']\n",
       " ['Z', 'U', 'L', 'M', 'A']"
      ]
     },
     "execution_count": 49,
     "metadata": {},
     "output_type": "execute_result"
    }
   ],
   "source": [
    "sorted_names = sort(names_as_lists)"
   ]
  },
  {
   "cell_type": "code",
   "execution_count": 50,
   "id": "2f641b50",
   "metadata": {},
   "outputs": [
    {
     "data": {
      "text/plain": [
       "Dict{String, Int64} with 2 entries:\n",
       "  \"B\" => 2\n",
       "  \"A\" => 1"
      ]
     },
     "execution_count": 50,
     "metadata": {},
     "output_type": "execute_result"
    }
   ],
   "source": [
    "Dict([(\"A\", 1), (\"B\", 2)])"
   ]
  },
  {
   "cell_type": "code",
   "execution_count": 51,
   "id": "9a406662",
   "metadata": {},
   "outputs": [],
   "source": [
    "α = [\"A\", \"B\", \"C\", \"D\", \"E\", \"F\", \"G\", \"H\", \"I\", \"J\", \"K\", \"L\", \"M\", \"N\", \"O\", \"P\", \"Q\", \"R\", \"S\", \"T\", \"U\", \"V\", \"W\", \"X\", \"Y\", \"Z\"];"
   ]
  },
  {
   "cell_type": "code",
   "execution_count": 52,
   "id": "c5f375dc",
   "metadata": {},
   "outputs": [
    {
     "ename": "LoadError",
     "evalue": "ParseError:\n\u001b[90m# Error @ \u001b[0;0m\u001b]8;;file:///home/krishanu/Julia_Prog/Euler_project/In[52]#7:9\u001b\\\u001b[90mIn[52]:7:9\u001b[0;0m\u001b]8;;\u001b\\\n    for j in 1:sorted_names[i]\n        \u001b[48;2;120;70;70m\u001b[0;0m\n\u001b[90m#       └ ── \u001b[0;0m\u001b[91mpremature end of input\u001b[0;0m",
     "output_type": "error",
     "traceback": [
      "ParseError:\n\u001b[90m# Error @ \u001b[0;0m\u001b]8;;file:///home/krishanu/Julia_Prog/Euler_project/In[52]#7:9\u001b\\\u001b[90mIn[52]:7:9\u001b[0;0m\u001b]8;;\u001b\\\n    for j in 1:sorted_names[i]\n        \u001b[48;2;120;70;70m\u001b[0;0m\n\u001b[90m#       └ ── \u001b[0;0m\u001b[91mpremature end of input\u001b[0;0m",
      "",
      "Stacktrace:",
      " [1] top-level scope",
      "   @ In[52]:7"
     ]
    }
   ],
   "source": [
    "pos = findfirst(==(\"Z\"), α)  # Returns the index of \"A\" in Alp\n",
    "m1 = []\n",
    "m2 = []\n",
    "\n",
    "for i in 1:length(sorted_names)\n",
    "    for j in 1:sorted_names[i]\n",
    "        "
   ]
  },
  {
   "cell_type": "code",
   "execution_count": null,
   "id": "85b4b3f3",
   "metadata": {},
   "outputs": [],
   "source": []
  },
  {
   "cell_type": "code",
   "execution_count": 53,
   "id": "1c124c83",
   "metadata": {},
   "outputs": [
    {
     "name": "stdout",
     "output_type": "stream",
     "text": [
      "[['A', 'l', 'i', 'c', 'e'], ['B', 'o', 'b'], ['C', 'h', 'a', 'r', 'l', 'i', 'e']]\n"
     ]
    }
   ],
   "source": [
    "lines1 = readlines(\"names_11.txt\")\n",
    "\n",
    "names_as_lists1 = [collect(strip(line, ['\"', ','])) for line in lines1]\n",
    "\n",
    "println(names_as_lists1)\n"
   ]
  },
  {
   "cell_type": "code",
   "execution_count": 3,
   "id": "63125ceb",
   "metadata": {},
   "outputs": [
    {
     "name": "stdout",
     "output_type": "stream",
     "text": [
      "69654179871\n"
     ]
    }
   ],
   "source": [
    "#Problem 23\n",
    "function check(n)\n",
    "    m = Int[]\n",
    "    t = 1\n",
    "    while t <= n/2\n",
    "        if n%t == 0\n",
    "            push!(m,t)\n",
    "        end\n",
    "        t = t + 1\n",
    "    end\n",
    "    if sum(m) > n\n",
    "        return true\n",
    "    else\n",
    "        return nothing\n",
    "    end\n",
    "end\n",
    "\n",
    "q = 28123\n",
    "h = 1\n",
    "m2 = []\n",
    "while h <= q\n",
    "    if check(h) == true\n",
    "       push!(m2,h)\n",
    "    end\n",
    "    h = h + 1\n",
    "end\n",
    "#println(m2)\n",
    "#print(length(m2))\n",
    "\n",
    "m3 = Set()\n",
    "for i in eachindex(m2)\n",
    "    for j in i:length(m2)  # Only go forward to avoid repeated sums\n",
    "        push!(m3, m2[i] + m2[j])\n",
    "    end\n",
    "end\n",
    "\n",
    "sm3 = sort(collect(m3));\n",
    "#println(length(sm3))\n",
    "\n",
    "h = 1\n",
    "m4 = []\n",
    "while h <= 28123\n",
    "    if h ∉ sm3\n",
    "        push!(m4,h)\n",
    "    end\n",
    "    h = h + 1\n",
    "end\n",
    "\n",
    "#println(m4)\n",
    "\n",
    "println(sum(m4))"
   ]
  },
  {
   "cell_type": "code",
   "execution_count": 19,
   "id": "0e228530",
   "metadata": {},
   "outputs": [
    {
     "name": "stdout",
     "output_type": "stream",
     "text": [
      "56244\n",
      "Total Number of Abundent numbers less that 28123 = 6965\n",
      "Total Number of elements that can be wriiten as a sum of Abundent numbers = 53871\n",
      "Total number of NON Abundent numbers less than 28123 = 1456\n",
      "Sum of all NON Abundent numbers = 4179871\n"
     ]
    }
   ],
   "source": [
    "println(sm3[end])\n",
    "println(\"Total Number of Abundent numbers less that 28123 = \",length(m2))\n",
    "println(\"Total Number of elements that can be wriiten as a sum of Abundent numbers = \",length(sm3))\n",
    "println(\"Total number of NON Abundent numbers less than 28123 = \",length(m4))\n",
    "println(\"Sum of all NON Abundent numbers = \",sum(m4))"
   ]
  },
  {
   "cell_type": "code",
   "execution_count": 18,
   "id": "0a74b3a0",
   "metadata": {},
   "outputs": [
    {
     "name": "stdout",
     "output_type": "stream",
     "text": [
      "  0.007496 seconds (7.20 k allocations: 363.070 KiB, 99.11% compilation time)\n"
     ]
    },
    {
     "data": {
      "text/plain": [
       "720"
      ]
     },
     "execution_count": 18,
     "metadata": {},
     "output_type": "execute_result"
    }
   ],
   "source": [
    "#Problem 24\n",
    "@time begin\n",
    "    function factorial(n::Integer)::BigInt\n",
    "        if n == 0 || n == 1 \n",
    "            return 1\n",
    "        else\n",
    "            return n*factorial(n-1)\n",
    "        end\n",
    "    end\n",
    "\n",
    "    factorial(6)\n",
    "end"
   ]
  },
  {
   "cell_type": "code",
   "execution_count": 2,
   "id": "3e3d70f3",
   "metadata": {
    "scrolled": false
   },
   "outputs": [
    {
     "data": {
      "text/plain": [
       "3628800-element Vector{Vector{Char}}:\n",
       " ['0', '1', '2', '3', '4', '5', '6', '7', '8', '9']\n",
       " ['0', '1', '2', '3', '4', '5', '6', '7', '9', '8']\n",
       " ['0', '1', '2', '3', '4', '5', '6', '8', '7', '9']\n",
       " ['0', '1', '2', '3', '4', '5', '6', '8', '9', '7']\n",
       " ['0', '1', '2', '3', '4', '5', '6', '9', '7', '8']\n",
       " ['0', '1', '2', '3', '4', '5', '6', '9', '8', '7']\n",
       " ['0', '1', '2', '3', '4', '5', '7', '6', '8', '9']\n",
       " ['0', '1', '2', '3', '4', '5', '7', '6', '9', '8']\n",
       " ['0', '1', '2', '3', '4', '5', '7', '8', '6', '9']\n",
       " ['0', '1', '2', '3', '4', '5', '7', '8', '9', '6']\n",
       " ['0', '1', '2', '3', '4', '5', '7', '9', '6', '8']\n",
       " ['0', '1', '2', '3', '4', '5', '7', '9', '8', '6']\n",
       " ['0', '1', '2', '3', '4', '5', '8', '6', '7', '9']\n",
       " ⋮\n",
       " ['9', '8', '7', '6', '5', '4', '2', '0', '1', '3']\n",
       " ['9', '8', '7', '6', '5', '4', '2', '0', '3', '1']\n",
       " ['9', '8', '7', '6', '5', '4', '2', '1', '0', '3']\n",
       " ['9', '8', '7', '6', '5', '4', '2', '1', '3', '0']\n",
       " ['9', '8', '7', '6', '5', '4', '2', '3', '0', '1']\n",
       " ['9', '8', '7', '6', '5', '4', '2', '3', '1', '0']\n",
       " ['9', '8', '7', '6', '5', '4', '3', '0', '1', '2']\n",
       " ['9', '8', '7', '6', '5', '4', '3', '0', '2', '1']\n",
       " ['9', '8', '7', '6', '5', '4', '3', '1', '0', '2']\n",
       " ['9', '8', '7', '6', '5', '4', '3', '1', '2', '0']\n",
       " ['9', '8', '7', '6', '5', '4', '3', '2', '0', '1']\n",
       " ['9', '8', '7', '6', '5', '4', '3', '2', '1', '0']"
      ]
     },
     "execution_count": 2,
     "metadata": {},
     "output_type": "execute_result"
    }
   ],
   "source": [
    "#Problem 24\n",
    "using Combinatorics\n",
    "\n",
    "n = \"0123456789\"  \n",
    "m = collect(n)  \n",
    "h = [collect(p) for p in permutations(m, 10)]  # Generate all unique 10-length permutations\n",
    "\n"
   ]
  },
  {
   "cell_type": "code",
   "execution_count": 3,
   "id": "47696e98",
   "metadata": {},
   "outputs": [
    {
     "name": "stdout",
     "output_type": "stream",
     "text": [
      "3628800"
     ]
    }
   ],
   "source": [
    "print(length(h))"
   ]
  },
  {
   "cell_type": "code",
   "execution_count": 4,
   "id": "b94621c9",
   "metadata": {},
   "outputs": [
    {
     "name": "stdout",
     "output_type": "stream",
     "text": [
      "['2', '7', '8', '3', '9', '1', '5', '4', '6', '0']\n"
     ]
    }
   ],
   "source": [
    "println(h[1000000])"
   ]
  },
  {
   "cell_type": "code",
   "execution_count": null,
   "id": "7cf34766",
   "metadata": {},
   "outputs": [],
   "source": []
  },
  {
   "cell_type": "code",
   "execution_count": 1,
   "id": "ced80baf",
   "metadata": {},
   "outputs": [
    {
     "name": "stdout",
     "output_type": "stream",
     "text": [
      "  0.174882 seconds (1.67 k allocations: 79.500 KiB, 2.90% compilation time)\n"
     ]
    },
    {
     "data": {
      "text/plain": [
       "63245986"
      ]
     },
     "execution_count": 1,
     "metadata": {},
     "output_type": "execute_result"
    }
   ],
   "source": [
    "#Problem 25\n",
    "@time begin\n",
    "    function Fibbo(n)\n",
    "        if n == 1\n",
    "            return 1\n",
    "        elseif n == 2\n",
    "            return 2\n",
    "        else \n",
    "            return Fibbo(n-1) + Fibbo(n-2)\n",
    "        end\n",
    "    end\n",
    "Fibbo(38)\n",
    "end"
   ]
  },
  {
   "cell_type": "code",
   "execution_count": 9,
   "id": "a729e553",
   "metadata": {},
   "outputs": [
    {
     "data": {
      "text/plain": [
       "30-element Vector{Any}:\n",
       "       1\n",
       "       2\n",
       "       3\n",
       "       5\n",
       "       8\n",
       "      13\n",
       "      21\n",
       "      34\n",
       "      55\n",
       "      89\n",
       "     144\n",
       "     233\n",
       "     377\n",
       "       ⋮\n",
       "    6765\n",
       "   10946\n",
       "   17711\n",
       "   28657\n",
       "   46368\n",
       "   75025\n",
       "  121393\n",
       "  196418\n",
       "  317811\n",
       "  514229\n",
       "  832040\n",
       " 1346269"
      ]
     },
     "execution_count": 9,
     "metadata": {},
     "output_type": "execute_result"
    }
   ],
   "source": [
    "f = []\n",
    "for i in 1:30\n",
    "    push!(f,Fibbo(i))\n",
    "end\n",
    "f"
   ]
  },
  {
   "cell_type": "code",
   "execution_count": 13,
   "id": "4a9a4e8f",
   "metadata": {},
   "outputs": [
    {
     "name": "stdout",
     "output_type": "stream",
     "text": [
      "  0.006681 seconds (3.66 k allocations: 181.516 KiB, 99.10% compilation time)\n"
     ]
    },
    {
     "data": {
      "text/plain": [
       "6792540214324356296"
      ]
     },
     "execution_count": 13,
     "metadata": {},
     "output_type": "execute_result"
    }
   ],
   "source": [
    "#This is not my code I took help from chatgpt\n",
    "@time begin\n",
    "        function fibon(n)\n",
    "        a, b = 1, 1\n",
    "        for _ in 3:n\n",
    "            a, b = b, a + b\n",
    "        end\n",
    "        return b\n",
    "    end\n",
    "fibon(150)\n",
    "end\n"
   ]
  },
  {
   "cell_type": "code",
   "execution_count": 15,
   "id": "693ac855",
   "metadata": {},
   "outputs": [
    {
     "data": {
      "text/plain": [
       "-1123705814761610347"
      ]
     },
     "execution_count": 15,
     "metadata": {},
     "output_type": "execute_result"
    }
   ],
   "source": [
    "fibon(200) #It will give negative value use BigInt"
   ]
  },
  {
   "cell_type": "code",
   "execution_count": 1,
   "id": "a95907f2",
   "metadata": {},
   "outputs": [
    {
     "name": "stdout",
     "output_type": "stream",
     "text": [
      "4782  1.560773 seconds (22.99 M allocations: 1.952 GiB, 25.63% gc time, 6.23% compilation time)\n"
     ]
    }
   ],
   "source": [
    "#Problem 25\n",
    "\n",
    "@time begin\n",
    "    function fibonB(n::Integer)\n",
    "        a, b = BigInt(1), BigInt(1)  \n",
    "        for _ in 3:n\n",
    "            a, b = b, a + b\n",
    "        end\n",
    "        return b\n",
    "    end\n",
    "    #fibonB(2000)\n",
    "    t = 0\n",
    "while true\n",
    "    num = fibonB(t)\n",
    "    str = string(num)\n",
    "    if length(str) == 1000\n",
    "        break\n",
    "    end\n",
    "    t = t + 1\n",
    "end\n",
    "print(t)\n",
    "end"
   ]
  },
  {
   "cell_type": "code",
   "execution_count": 17,
   "id": "6dd278da",
   "metadata": {},
   "outputs": [
    {
     "name": "stdout",
     "output_type": "stream",
     "text": [
      "4782"
     ]
    }
   ],
   "source": [
    "t = 0\n",
    "while true\n",
    "    num = fibonB(t)\n",
    "    str = string(num)\n",
    "    if length(str) == 1000\n",
    "        break\n",
    "    end\n",
    "    t = t + 1\n",
    "end\n",
    "print(t)"
   ]
  },
  {
   "cell_type": "code",
   "execution_count": 5,
   "id": "cbef1516",
   "metadata": {
    "scrolled": true
   },
   "outputs": [],
   "source": [
    "#problem 26\n"
   ]
  },
  {
   "cell_type": "code",
   "execution_count": null,
   "id": "687e1cfa",
   "metadata": {},
   "outputs": [],
   "source": []
  }
 ],
 "metadata": {
  "kernelspec": {
   "display_name": "Julia 1.11.2",
   "language": "julia",
   "name": "julia-1.11"
  },
  "language_info": {
   "file_extension": ".jl",
   "mimetype": "application/julia",
   "name": "julia",
   "version": "1.11.2"
  }
 },
 "nbformat": 4,
 "nbformat_minor": 5
}
